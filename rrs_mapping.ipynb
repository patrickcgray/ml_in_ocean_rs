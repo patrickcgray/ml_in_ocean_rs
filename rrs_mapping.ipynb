{
 "cells": [
  {
   "cell_type": "markdown",
   "id": "300ef1e0-0e71-4bf8-9a11-d38b0479a494",
   "metadata": {},
   "source": [
    "# Machine Learning in Ocean Remote Sensing"
   ]
  },
  {
   "cell_type": "code",
   "execution_count": 1,
   "id": "96d9ca9d-0fd2-453c-9709-14856ddb08d1",
   "metadata": {},
   "outputs": [],
   "source": [
    "import numpy as np\n",
    "import matplotlib.pyplot as plt\n",
    "import math\n",
    "\n",
    "import numpy as np\n",
    "from sklearn.metrics import mean_squared_error, r2_score\n",
    "import matplotlib.pyplot as plt\n",
    "import pandas as pd\n",
    "from sklearn.linear_model import LinearRegression"
   ]
  },
  {
   "cell_type": "code",
   "execution_count": 2,
   "id": "12fa81fa-bff3-4411-b4e6-02591d0e7621",
   "metadata": {},
   "outputs": [],
   "source": [
    "cb_palette = ['#006BA4', '#FF800E', '#ABABAB']"
   ]
  },
  {
   "cell_type": "code",
   "execution_count": 3,
   "id": "0a16b234-c46a-405d-9419-0bba5c378895",
   "metadata": {},
   "outputs": [],
   "source": [
    "plt.rcParams.update({'font.size': 16})"
   ]
  },
  {
   "cell_type": "markdown",
   "id": "9aa564dd-397f-481e-ae40-3180dfee2d72",
   "metadata": {},
   "source": [
    "## Figure 3"
   ]
  },
  {
   "cell_type": "markdown",
   "id": "9cdd970c-2ad5-443e-acde-91caed27d546",
   "metadata": {},
   "source": [
    "Comparing a simple nonlinear regression, RF, and a NN in deriving chlorophyll from reflectance spectra\n",
    "\n",
    "We must use baselines to justify complex models\n",
    "\n",
    "I’m tempted to make a version of this https://m.xkcd.com/2048/ that is specific to some case study here, basically showing some curve fitting with various models and how NNs can overfit.\n"
   ]
  },
  {
   "cell_type": "markdown",
   "id": "62cf49b6-0ac3-4c6c-a7a5-3279a036bc20",
   "metadata": {},
   "source": [
    "Grab the NASA NOMAD dataset but with all the headers removed except the column names"
   ]
  },
  {
   "cell_type": "code",
   "execution_count": 4,
   "id": "323f187d-7248-43bd-aa95-cef5090f326a",
   "metadata": {},
   "outputs": [
    {
     "name": "stdout",
     "output_type": "stream",
     "text": [
      "(4459, 217)\n"
     ]
    },
    {
     "data": {
      "text/html": [
       "<div>\n",
       "<style scoped>\n",
       "    .dataframe tbody tr th:only-of-type {\n",
       "        vertical-align: middle;\n",
       "    }\n",
       "\n",
       "    .dataframe tbody tr th {\n",
       "        vertical-align: top;\n",
       "    }\n",
       "\n",
       "    .dataframe thead th {\n",
       "        text-align: right;\n",
       "    }\n",
       "</style>\n",
       "<table border=\"1\" class=\"dataframe\">\n",
       "  <thead>\n",
       "    <tr style=\"text-align: right;\">\n",
       "      <th></th>\n",
       "      <th>year</th>\n",
       "      <th>month</th>\n",
       "      <th>day</th>\n",
       "      <th>hour</th>\n",
       "      <th>minute</th>\n",
       "      <th>second</th>\n",
       "      <th>lat</th>\n",
       "      <th>lon</th>\n",
       "      <th>id</th>\n",
       "      <th>oisst</th>\n",
       "      <th>...</th>\n",
       "      <th>allo</th>\n",
       "      <th>diato</th>\n",
       "      <th>lut</th>\n",
       "      <th>zea</th>\n",
       "      <th>chl_b</th>\n",
       "      <th>beta-car</th>\n",
       "      <th>alpha-car</th>\n",
       "      <th>alpha-beta-car</th>\n",
       "      <th>flag</th>\n",
       "      <th>cruise</th>\n",
       "    </tr>\n",
       "  </thead>\n",
       "  <tbody>\n",
       "    <tr>\n",
       "      <th>0</th>\n",
       "      <td>2003</td>\n",
       "      <td>4</td>\n",
       "      <td>15</td>\n",
       "      <td>15</td>\n",
       "      <td>15</td>\n",
       "      <td>0</td>\n",
       "      <td>38.4279</td>\n",
       "      <td>-76.61</td>\n",
       "      <td>1565</td>\n",
       "      <td>3.70</td>\n",
       "      <td>...</td>\n",
       "      <td>-999.0</td>\n",
       "      <td>-999.0</td>\n",
       "      <td>-999.0</td>\n",
       "      <td>-999.0</td>\n",
       "      <td>-999.0</td>\n",
       "      <td>-999.0</td>\n",
       "      <td>-999.0</td>\n",
       "      <td>-999.0</td>\n",
       "      <td>20691</td>\n",
       "      <td>ace0301</td>\n",
       "    </tr>\n",
       "    <tr>\n",
       "      <th>1</th>\n",
       "      <td>2003</td>\n",
       "      <td>4</td>\n",
       "      <td>15</td>\n",
       "      <td>16</td>\n",
       "      <td>50</td>\n",
       "      <td>0</td>\n",
       "      <td>38.3680</td>\n",
       "      <td>-76.50</td>\n",
       "      <td>1566</td>\n",
       "      <td>3.70</td>\n",
       "      <td>...</td>\n",
       "      <td>-999.0</td>\n",
       "      <td>-999.0</td>\n",
       "      <td>-999.0</td>\n",
       "      <td>-999.0</td>\n",
       "      <td>-999.0</td>\n",
       "      <td>-999.0</td>\n",
       "      <td>-999.0</td>\n",
       "      <td>-999.0</td>\n",
       "      <td>20675</td>\n",
       "      <td>ace0301</td>\n",
       "    </tr>\n",
       "    <tr>\n",
       "      <th>2</th>\n",
       "      <td>2003</td>\n",
       "      <td>4</td>\n",
       "      <td>15</td>\n",
       "      <td>17</td>\n",
       "      <td>50</td>\n",
       "      <td>0</td>\n",
       "      <td>38.3074</td>\n",
       "      <td>-76.44</td>\n",
       "      <td>1567</td>\n",
       "      <td>3.70</td>\n",
       "      <td>...</td>\n",
       "      <td>-999.0</td>\n",
       "      <td>-999.0</td>\n",
       "      <td>-999.0</td>\n",
       "      <td>-999.0</td>\n",
       "      <td>-999.0</td>\n",
       "      <td>-999.0</td>\n",
       "      <td>-999.0</td>\n",
       "      <td>-999.0</td>\n",
       "      <td>20691</td>\n",
       "      <td>ace0301</td>\n",
       "    </tr>\n",
       "    <tr>\n",
       "      <th>3</th>\n",
       "      <td>2003</td>\n",
       "      <td>4</td>\n",
       "      <td>17</td>\n",
       "      <td>18</td>\n",
       "      <td>15</td>\n",
       "      <td>0</td>\n",
       "      <td>38.6367</td>\n",
       "      <td>-76.32</td>\n",
       "      <td>1568</td>\n",
       "      <td>3.70</td>\n",
       "      <td>...</td>\n",
       "      <td>-999.0</td>\n",
       "      <td>-999.0</td>\n",
       "      <td>-999.0</td>\n",
       "      <td>-999.0</td>\n",
       "      <td>-999.0</td>\n",
       "      <td>-999.0</td>\n",
       "      <td>-999.0</td>\n",
       "      <td>-999.0</td>\n",
       "      <td>20675</td>\n",
       "      <td>ace0301</td>\n",
       "    </tr>\n",
       "    <tr>\n",
       "      <th>4</th>\n",
       "      <td>2003</td>\n",
       "      <td>7</td>\n",
       "      <td>21</td>\n",
       "      <td>18</td>\n",
       "      <td>27</td>\n",
       "      <td>0</td>\n",
       "      <td>38.3047</td>\n",
       "      <td>-76.44</td>\n",
       "      <td>1559</td>\n",
       "      <td>22.03</td>\n",
       "      <td>...</td>\n",
       "      <td>-999.0</td>\n",
       "      <td>-999.0</td>\n",
       "      <td>-999.0</td>\n",
       "      <td>-999.0</td>\n",
       "      <td>-999.0</td>\n",
       "      <td>-999.0</td>\n",
       "      <td>-999.0</td>\n",
       "      <td>-999.0</td>\n",
       "      <td>20691</td>\n",
       "      <td>ace0302</td>\n",
       "    </tr>\n",
       "  </tbody>\n",
       "</table>\n",
       "<p>5 rows × 217 columns</p>\n",
       "</div>"
      ],
      "text/plain": [
       "   year  month  day  hour  minute  second      lat    lon    id  oisst  ...  \\\n",
       "0  2003      4   15    15      15       0  38.4279 -76.61  1565   3.70  ...   \n",
       "1  2003      4   15    16      50       0  38.3680 -76.50  1566   3.70  ...   \n",
       "2  2003      4   15    17      50       0  38.3074 -76.44  1567   3.70  ...   \n",
       "3  2003      4   17    18      15       0  38.6367 -76.32  1568   3.70  ...   \n",
       "4  2003      7   21    18      27       0  38.3047 -76.44  1559  22.03  ...   \n",
       "\n",
       "    allo  diato    lut    zea  chl_b  beta-car  alpha-car  alpha-beta-car  \\\n",
       "0 -999.0 -999.0 -999.0 -999.0 -999.0    -999.0     -999.0          -999.0   \n",
       "1 -999.0 -999.0 -999.0 -999.0 -999.0    -999.0     -999.0          -999.0   \n",
       "2 -999.0 -999.0 -999.0 -999.0 -999.0    -999.0     -999.0          -999.0   \n",
       "3 -999.0 -999.0 -999.0 -999.0 -999.0    -999.0     -999.0          -999.0   \n",
       "4 -999.0 -999.0 -999.0 -999.0 -999.0    -999.0     -999.0          -999.0   \n",
       "\n",
       "    flag   cruise  \n",
       "0  20691  ace0301  \n",
       "1  20675  ace0301  \n",
       "2  20691  ace0301  \n",
       "3  20675  ace0301  \n",
       "4  20691  ace0302  \n",
       "\n",
       "[5 rows x 217 columns]"
      ]
     },
     "execution_count": 4,
     "metadata": {},
     "output_type": "execute_result"
    }
   ],
   "source": [
    "df = pd.read_csv('https://seabass.gsfc.nasa.gov/wiki/NOMAD/nomad_seabass_v2.a_2008200.txt', skiprows=list(range(0,88)) + [89,90])\n",
    "df = df.rename(columns={'/fields=year': 'year'})\n",
    "\n",
    "print(df.shape)\n",
    "df.head()"
   ]
  },
  {
   "cell_type": "code",
   "execution_count": 5,
   "id": "2edefbf3-13fe-45bb-b941-a88a965b4c29",
   "metadata": {},
   "outputs": [],
   "source": [
    "blue_lw =   'lw443'\n",
    "blue_es =   'es443'\n",
    "blue_rrs =  'rrs443'\n",
    "\n",
    "green_lw =  'lw555'\n",
    "green_es =  'es555'\n",
    "green_rrs = 'rrs555'\n",
    "\n",
    "red_lw =    'lw670'\n",
    "red_es =    'es670'\n",
    "red_rrs =   'rrs670'"
   ]
  },
  {
   "cell_type": "code",
   "execution_count": 6,
   "id": "7dae381d-9e55-488c-8052-338985ee1b91",
   "metadata": {},
   "outputs": [],
   "source": [
    "def chl_fcn(row):\n",
    "    if row['chl_a'] != -999 :\n",
    "        return (row['chl_a']) # HPLC\n",
    "    else:\n",
    "        return (row['chl']) # flu\n",
    "\n",
    "df['chl_merge'] = df.apply(lambda row: chl_fcn(row), axis=1)\n",
    "\n",
    "# whether to use only HPLC or merged chl\n",
    "# Hu et al 2012 only use HPLC which is chl_a\n",
    "chl = 'chl_merge' # 'chl_merge'"
   ]
  },
  {
   "cell_type": "code",
   "execution_count": 7,
   "id": "6cb2b56f-1fd9-4ca2-b5cc-e3f06d9f76b9",
   "metadata": {},
   "outputs": [
    {
     "name": "stdout",
     "output_type": "stream",
     "text": [
      "Number of rows remaning after filters:  487\n"
     ]
    }
   ],
   "source": [
    "\n",
    "# make a copy to subset\n",
    "df_chl = df.copy()\n",
    "\n",
    "# create the rrs columns\n",
    "df_chl[blue_rrs] = df_chl[blue_lw]/df_chl[blue_es]\n",
    "df_chl[green_rrs] = df_chl[green_lw]/df_chl[green_es]\n",
    "df_chl[red_rrs] = df_chl[red_lw]/df_chl[red_es]\n",
    "\n",
    "# subset to delete any measurements that are missing\n",
    "# filter to ensure all the SeaWiFS bands are present\n",
    "df_chl = df_chl[df_chl['lw443'] != -999]\n",
    "df_chl = df_chl[df_chl['lw555'] != -999]\n",
    "df_chl = df_chl[df_chl['lw670'] != -999]\n",
    "df_chl = df_chl[df_chl['es443'] != -999]\n",
    "df_chl = df_chl[df_chl['es555'] != -999]\n",
    "df_chl = df_chl[df_chl['es670'] != -999]\n",
    "df_chl = df_chl[df_chl['lat'] != -999]\n",
    "df_chl = df_chl[df_chl['etopo2'] != -999]\n",
    "df_chl = df_chl[df_chl['lw411'] != -999]\n",
    "df_chl = df_chl[df_chl['es411'] != -999]\n",
    "df_chl = df_chl[df_chl['lw489'] != -999]\n",
    "df_chl = df_chl[df_chl['es489'] != -999]\n",
    "df_chl = df_chl[df_chl['lw510'] != -999]\n",
    "df_chl = df_chl[df_chl['es510'] != -999]\n",
    "\n",
    "df_chl = df_chl[df_chl[chl] != -999]\n",
    "\n",
    "# subset to only rows that were deeper than 30m\n",
    "df_chl = df_chl[df_chl['etopo2'] > 30]\n",
    "\n",
    "# subset to lat between 60N and 60S\n",
    "df_chl = df_chl[(df_chl['lat'] < 60) & (df_chl['lat'] > -60)]\n",
    "\n",
    "print(\"Number of rows remaning after filters: \", len(df_chl))"
   ]
  },
  {
   "cell_type": "code",
   "execution_count": 8,
   "id": "ecb07927-7fc1-4b37-a718-29723b1d12c9",
   "metadata": {},
   "outputs": [
    {
     "name": "stdout",
     "output_type": "stream",
     "text": [
      "Number of rows remaning after filters:  455\n"
     ]
    }
   ],
   "source": [
    "# don't want any values 0 or below\n",
    "df_chl = df_chl[np.all(df_chl[[red_es, red_lw, green_lw, blue_lw, chl]] > 0, axis=1)]\n",
    "print(\"Number of rows remaning after filters: \", len(df_chl))"
   ]
  },
  {
   "cell_type": "code",
   "execution_count": 9,
   "id": "ec8286ae-67d8-40b5-8c2b-bfc2663f0f47",
   "metadata": {},
   "outputs": [
    {
     "data": {
      "text/plain": [
       "Text(0.5, 1.0, 'HPLC chla locations for algorithm development')"
      ]
     },
     "execution_count": 9,
     "metadata": {},
     "output_type": "execute_result"
    },
    {
     "data": {
      "image/png": "[encoded data removed]",
      "text/plain": [
       "<Figure size 648x1008 with 1 Axes>"
      ]
     },
     "metadata": {
      "needs_background": "light"
     },
     "output_type": "display_data"
    }
   ],
   "source": [
    "import geopandas as gpd\n",
    "\n",
    "gdf = gpd.GeoDataFrame(\n",
    "    df_chl, geometry=gpd.points_from_xy(x=df_chl.lon, y=df_chl.lat)\n",
    ")\n",
    "world = gpd.read_file(gpd.datasets.get_path('naturalearth_lowres'))\n",
    "\n",
    "fig, ax = plt.subplots(figsize=(9,14))\n",
    "world.plot(ax=ax)\n",
    "gdf.plot(color='black',markersize=20,alpha=.7,ax=ax)\n",
    "ax.set_title('HPLC chla locations for algorithm development')\n",
    "# fig.savefig('locations_alg_dev.png', dpi=300)"
   ]
  },
  {
   "cell_type": "code",
   "execution_count": 10,
   "id": "e69c50fa-8916-462a-853c-8863f252dd52",
   "metadata": {},
   "outputs": [],
   "source": [
    "X = df_chl[[blue_lw, red_lw,green_lw]].values\n",
    "y = df_chl[chl].values"
   ]
  },
  {
   "cell_type": "code",
   "execution_count": 11,
   "id": "274ec060-188f-4b18-b23c-5360ddbc91eb",
   "metadata": {},
   "outputs": [],
   "source": [
    "from sklearn.model_selection import train_test_split\n",
    "\n",
    "X_train, X_test, y_train, y_test = train_test_split(X, y, test_size=0.33, random_state=15)"
   ]
  },
  {
   "cell_type": "code",
   "execution_count": 12,
   "id": "9ecd8a4b-c292-4a37-aa31-4b123ed3c152",
   "metadata": {},
   "outputs": [],
   "source": [
    "lin_X_train = (X_train[:,0]/X_train[:,1]).reshape(-1,1)\n",
    "lin_X_train = np.log(lin_X_train)\n",
    "lin_X_train[np.isinf(lin_X_train)] = 0\n",
    "lin_X_train[np.isneginf(lin_X_train)] = 0"
   ]
  },
  {
   "cell_type": "code",
   "execution_count": 13,
   "id": "b6606e60-6bb5-4024-9842-9eb0186b3266",
   "metadata": {},
   "outputs": [
    {
     "data": {
      "text/plain": [
       "LinearRegression()"
      ]
     },
     "execution_count": 13,
     "metadata": {},
     "output_type": "execute_result"
    }
   ],
   "source": [
    "# Fitting Linear Regression to the dataset \n",
    "from sklearn.linear_model import LinearRegression \n",
    "lin = LinearRegression() \n",
    "\n",
    "lin.fit(lin_X_train, np.log(y_train)) "
   ]
  },
  {
   "cell_type": "code",
   "execution_count": 14,
   "id": "bb756aa7-154b-4bb6-858f-363249ae5cef",
   "metadata": {},
   "outputs": [
    {
     "data": {
      "text/plain": [
       "RandomForestRegressor(random_state=42)"
      ]
     },
     "execution_count": 14,
     "metadata": {},
     "output_type": "execute_result"
    }
   ],
   "source": [
    "from sklearn.ensemble import RandomForestRegressor\n",
    "\n",
    "rf = RandomForestRegressor(random_state=42)\n",
    "rf.fit(X_train, np.log(y_train))"
   ]
  },
  {
   "cell_type": "code",
   "execution_count": 15,
   "id": "6137a344-019a-449a-aa0a-7537696e30d5",
   "metadata": {},
   "outputs": [
    {
     "data": {
      "text/plain": [
       "MLPRegressor(hidden_layer_sizes=(15, 8), max_iter=2000, random_state=42,\n",
       "             solver='lbfgs')"
      ]
     },
     "execution_count": 15,
     "metadata": {},
     "output_type": "execute_result"
    }
   ],
   "source": [
    "from sklearn.neural_network import MLPRegressor\n",
    "\n",
    "mlp = MLPRegressor(solver='lbfgs', hidden_layer_sizes=(15, 8), random_state=42,max_iter=2000)\n",
    "\n",
    "mlp.fit(X_train, np.log(y_train))"
   ]
  },
  {
   "cell_type": "code",
   "execution_count": 22,
   "id": "d7afc56a-b578-4370-9de4-997ca25477dd",
   "metadata": {},
   "outputs": [
    {
     "name": "stdout",
     "output_type": "stream",
     "text": [
      "Collecting statsmodels\n",
      "  Using cached statsmodels-0.14.1-cp38-cp38-manylinux_2_17_x86_64.manylinux2014_x86_64.whl (10.9 MB)\n",
      "Collecting packaging>=21.3\n",
      "  Downloading packaging-24.0-py3-none-any.whl (53 kB)\n",
      "\u001b[K     |████████████████████████████████| 53 kB 248 kB/s eta 0:00:01\n",
      "\u001b[?25hRequirement already satisfied: numpy<2,>=1.18 in /srv/conda/envs/notebook/lib/python3.8/site-packages (from statsmodels) (1.20.2)\n",
      "Requirement already satisfied: pandas!=2.1.0,>=1.0 in /srv/conda/envs/notebook/lib/python3.8/site-packages (from statsmodels) (1.2.4)\n",
      "Collecting patsy>=0.5.4\n",
      "  Using cached patsy-0.5.6-py2.py3-none-any.whl (233 kB)\n",
      "Requirement already satisfied: scipy!=1.9.2,>=1.4 in /srv/conda/envs/notebook/lib/python3.8/site-packages (from statsmodels) (1.6.3)\n",
      "Requirement already satisfied: python-dateutil>=2.7.3 in /srv/conda/envs/notebook/lib/python3.8/site-packages (from pandas!=2.1.0,>=1.0->statsmodels) (2.7.5)\n",
      "Requirement already satisfied: pytz>=2017.3 in /srv/conda/envs/notebook/lib/python3.8/site-packages (from pandas!=2.1.0,>=1.0->statsmodels) (2021.1)\n",
      "Requirement already satisfied: six in /srv/conda/envs/notebook/lib/python3.8/site-packages (from patsy>=0.5.4->statsmodels) (1.16.0)\n",
      "Installing collected packages: patsy, packaging, statsmodels\n",
      "  Attempting uninstall: packaging\n",
      "    Found existing installation: packaging 20.9\n",
      "    Uninstalling packaging-20.9:\n",
      "      Successfully uninstalled packaging-20.9\n",
      "Successfully installed packaging-24.0 patsy-0.5.6 statsmodels-0.14.1\n"
     ]
    }
   ],
   "source": [
    "! pip install statsmodels "
   ]
  },
  {
   "cell_type": "code",
   "execution_count": 23,
   "id": "871198c5-aa84-40e7-8cda-778a6fa5038d",
   "metadata": {},
   "outputs": [],
   "source": [
    "import statsmodels.api as sm"
   ]
  },
  {
   "cell_type": "markdown",
   "id": "ce3a9f9c-8699-4548-80b4-0d80d8313b45",
   "metadata": {},
   "source": [
    "## now test out the algorithms"
   ]
  },
  {
   "cell_type": "markdown",
   "id": "2edaef37-c813-40b4-8d0f-1bbecadcdd01",
   "metadata": {},
   "source": [
    "actually in general I'm unsure slope is the proper metric... maybe r2 of the log transformed data? need to decide"
   ]
  },
  {
   "cell_type": "code",
   "execution_count": 20,
   "id": "2b90899f-2aea-45fb-b3aa-780394300dd2",
   "metadata": {},
   "outputs": [],
   "source": [
    "from sklearn.metrics import mean_squared_error"
   ]
  },
  {
   "cell_type": "code",
   "execution_count": 29,
   "id": "11719f59-daed-4d19-9441-86c9e7baf08a",
   "metadata": {},
   "outputs": [],
   "source": [
    "import math"
   ]
  },
  {
   "cell_type": "code",
   "execution_count": 48,
   "id": "2852c934-5176-4be2-8bb7-608616ab827e",
   "metadata": {},
   "outputs": [
    {
     "data": {
      "image/png": "[encoded data removed]",
      "text/plain": [
       "<Figure size 612x504 with 1 Axes>"
      ]
     },
     "metadata": {
      "needs_background": "light"
     },
     "output_type": "display_data"
    }
   ],
   "source": [
    "fig, ax = plt.subplots(figsize=(8.5,7))\n",
    "\n",
    "\n",
    "####\n",
    "#### linear regression\n",
    "####\n",
    "lin_X_test = (X_test[:,0]/X_test[:,1]).reshape(-1,1)\n",
    "lin_X_test = np.log(lin_X_test)\n",
    "\n",
    "lin.score(lin_X_test,y_test)\n",
    "\n",
    "lin_preds = lin.predict(lin_X_test)\n",
    "ax.scatter(np.log(y_test),lin_preds,color=cb_palette[0],label='lin reg, RMSE='+str(np.round(mean_squared_error(np.log(y_test),lin_preds, squared=False),2))+', R2='+str(np.round(lin.score(lin_X_test,np.log(y_test)),2)))\n",
    "\n",
    "ols_model = sm.OLS(np.log(y_test),sm.add_constant(lin_preds))\n",
    "results = ols_model.fit()\n",
    "# extract intercept b and slope m\n",
    "b, m = results.params\n",
    "\n",
    "ax.axline(xy1=(0, b), slope=m, label=f'$y = {m:.2f}x {b:+.2f}$', ls='--',c=cb_palette[0])\n",
    "\n",
    "####\n",
    "#### random forest\n",
    "####\n",
    "\n",
    "rf_preds = rf.predict(X_test)\n",
    "ax.scatter(np.log(y_test),rf_preds,color=cb_palette[1],label='RF, RMSE='+str(np.round(mean_squared_error(np.log(y_test),rf_preds, squared=False),2))+', R2='+str(np.round(rf.score(X_test,np.log(y_test)),2)))\n",
    "\n",
    "ols_model = sm.OLS(np.log(y_test),sm.add_constant(rf_preds))\n",
    "results = ols_model.fit()\n",
    "# extract intercept b and slope m\n",
    "b, m = results.params\n",
    "\n",
    "ax.axline(xy1=(0, b), slope=m, label=f'$y = {m:.2f}x {b:+.2f}$', ls='--',c=cb_palette[1])\n",
    "\n",
    "####\n",
    "#### MLP\n",
    "####\n",
    "\n",
    "mlp_preds = mlp.predict(X_test)\n",
    "\n",
    "ax.scatter(np.log(y_test),mlp_preds,color=cb_palette[2],label='MLP, RMSE='+str(np.round(mean_squared_error(np.log(y_test),mlp_preds, squared=False),2))+', R2='+str(np.round(mlp.score(X_test,np.log(y_test)),2)))\n",
    "# ax.plot([np.log(10e-2), np.log(50)], [np.log(10e-2), np.log(50)], ls=\"--\",c='k')\n",
    "\n",
    "ols_model = sm.OLS(np.log(y_test),sm.add_constant(mlp_preds))\n",
    "results = ols_model.fit()\n",
    "# extract intercept b and slope m\n",
    "b, m = results.params\n",
    "\n",
    "ax.axline(xy1=(0, b), slope=m, label=f'$y = {m:.2f}x {b:+.2f}$', ls='--',c=cb_palette[2])\n",
    "\n",
    "# ax.set_xscale('log')\n",
    "# ax.set_yscale('log')\n",
    "\n",
    "ax.set_xlim(np.log(.02), np.log(50))\n",
    "ax.set_ylim(np.log(.02), np.log(50))\n",
    "\n",
    "ax.set_ylabel('Predicted ln(chl a) concentration')\n",
    "ax.set_xlabel('Measured ln(chl a) concentration')\n",
    "\n",
    "ax.legend(bbox_to_anchor=(.6,.4),fancybox=True, shadow=True,)\n",
    "\n",
    "fig.tight_layout()\n",
    "\n",
    "plt.savefig('figs/multiple_algorithms_for_chla.png',dpi=300)\n",
    "\n",
    "plt.show()"
   ]
  },
  {
   "cell_type": "markdown",
   "id": "a74a0129-344c-4305-92cd-ddc1f4fc88cc",
   "metadata": {},
   "source": [
    "## how about with a little uncertainty?"
   ]
  },
  {
   "cell_type": "code",
   "execution_count": 37,
   "id": "c5312d50-0671-4f4a-8a5e-57303561a261",
   "metadata": {},
   "outputs": [],
   "source": [
    "mu, sigma = 0, 0.035 # mean and standard deviation\n",
    "s = np.random.normal(mu, sigma, y_test.shape)+1"
   ]
  },
  {
   "cell_type": "code",
   "execution_count": 38,
   "id": "14160f8c-992f-41b5-b4e1-cd78b9ce710f",
   "metadata": {},
   "outputs": [
    {
     "data": {
      "text/plain": [
       "(array([ 4.,  8., 11., 18., 21., 33., 19., 18.,  6., 13.]),\n",
       " array([0.91804044, 0.93320593, 0.94837143, 0.96353692, 0.97870242,\n",
       "        0.99386791, 1.00903341, 1.0241989 , 1.0393644 , 1.05452989,\n",
       "        1.06969539]),\n",
       " <BarContainer object of 10 artists>)"
      ]
     },
     "execution_count": 38,
     "metadata": {},
     "output_type": "execute_result"
    },
    {
     "data": {
      "image/png": "[encoded data removed]",
      "text/plain": [
       "<Figure size 432x288 with 1 Axes>"
      ]
     },
     "metadata": {
      "needs_background": "light"
     },
     "output_type": "display_data"
    }
   ],
   "source": [
    "plt.hist(s)"
   ]
  },
  {
   "cell_type": "markdown",
   "id": "b73beabb-929d-4715-b3cc-9f3ef9290970",
   "metadata": {},
   "source": [
    "Maybe instead of the slope of the line do the r2?"
   ]
  },
  {
   "cell_type": "code",
   "execution_count": 49,
   "id": "857af512-b8e8-434f-b991-52cf412cae30",
   "metadata": {},
   "outputs": [
    {
     "name": "stdout",
     "output_type": "stream",
     "text": [
      "0\n",
      "1\n",
      "2\n",
      "3\n",
      "4\n",
      "5\n",
      "6\n",
      "7\n"
     ]
    },
    {
     "name": "stderr",
     "output_type": "stream",
     "text": [
      "/srv/conda/envs/notebook/lib/python3.8/site-packages/sklearn/neural_network/_multilayer_perceptron.py:500: ConvergenceWarning: lbfgs failed to converge (status=1):\n",
      "STOP: TOTAL NO. of ITERATIONS REACHED LIMIT.\n",
      "\n",
      "Increase the number of iterations (max_iter) or scale the data as shown in:\n",
      "    https://scikit-learn.org/stable/modules/preprocessing.html\n",
      "  self.n_iter_ = _check_optimize_result(\"lbfgs\", opt_res, self.max_iter)\n"
     ]
    },
    {
     "name": "stdout",
     "output_type": "stream",
     "text": [
      "8\n",
      "9\n",
      "10\n",
      "11\n",
      "12\n",
      "13\n",
      "14\n",
      "15\n",
      "16\n",
      "17\n",
      "18\n",
      "19\n",
      "20\n",
      "21\n",
      "22\n",
      "23\n",
      "24\n",
      "25\n",
      "26\n",
      "27\n",
      "28\n",
      "29\n",
      "30\n",
      "31\n",
      "32\n",
      "33\n",
      "34\n",
      "35\n",
      "36\n",
      "37\n",
      "38\n",
      "39\n",
      "40\n",
      "41\n",
      "42\n",
      "43\n",
      "44\n",
      "45\n",
      "46\n"
     ]
    },
    {
     "name": "stderr",
     "output_type": "stream",
     "text": [
      "/srv/conda/envs/notebook/lib/python3.8/site-packages/sklearn/neural_network/_multilayer_perceptron.py:500: ConvergenceWarning: lbfgs failed to converge (status=1):\n",
      "STOP: TOTAL NO. of ITERATIONS REACHED LIMIT.\n",
      "\n",
      "Increase the number of iterations (max_iter) or scale the data as shown in:\n",
      "    https://scikit-learn.org/stable/modules/preprocessing.html\n",
      "  self.n_iter_ = _check_optimize_result(\"lbfgs\", opt_res, self.max_iter)\n"
     ]
    },
    {
     "name": "stdout",
     "output_type": "stream",
     "text": [
      "47\n",
      "48\n",
      "49\n",
      "50\n",
      "51\n",
      "52\n",
      "53\n"
     ]
    },
    {
     "name": "stderr",
     "output_type": "stream",
     "text": [
      "/srv/conda/envs/notebook/lib/python3.8/site-packages/sklearn/neural_network/_multilayer_perceptron.py:500: ConvergenceWarning: lbfgs failed to converge (status=1):\n",
      "STOP: TOTAL NO. of ITERATIONS REACHED LIMIT.\n",
      "\n",
      "Increase the number of iterations (max_iter) or scale the data as shown in:\n",
      "    https://scikit-learn.org/stable/modules/preprocessing.html\n",
      "  self.n_iter_ = _check_optimize_result(\"lbfgs\", opt_res, self.max_iter)\n"
     ]
    },
    {
     "name": "stdout",
     "output_type": "stream",
     "text": [
      "54\n",
      "55\n"
     ]
    },
    {
     "name": "stderr",
     "output_type": "stream",
     "text": [
      "/srv/conda/envs/notebook/lib/python3.8/site-packages/sklearn/neural_network/_multilayer_perceptron.py:500: ConvergenceWarning: lbfgs failed to converge (status=1):\n",
      "STOP: TOTAL NO. of ITERATIONS REACHED LIMIT.\n",
      "\n",
      "Increase the number of iterations (max_iter) or scale the data as shown in:\n",
      "    https://scikit-learn.org/stable/modules/preprocessing.html\n",
      "  self.n_iter_ = _check_optimize_result(\"lbfgs\", opt_res, self.max_iter)\n"
     ]
    },
    {
     "name": "stdout",
     "output_type": "stream",
     "text": [
      "56\n",
      "57\n",
      "58\n",
      "59\n",
      "60\n",
      "61\n",
      "62\n",
      "63\n",
      "64\n",
      "65\n",
      "66\n",
      "67\n",
      "68\n",
      "69\n",
      "70\n",
      "71\n",
      "72\n",
      "73\n",
      "74\n",
      "75\n",
      "76\n"
     ]
    },
    {
     "name": "stderr",
     "output_type": "stream",
     "text": [
      "/srv/conda/envs/notebook/lib/python3.8/site-packages/sklearn/neural_network/_multilayer_perceptron.py:500: ConvergenceWarning: lbfgs failed to converge (status=1):\n",
      "STOP: TOTAL NO. of ITERATIONS REACHED LIMIT.\n",
      "\n",
      "Increase the number of iterations (max_iter) or scale the data as shown in:\n",
      "    https://scikit-learn.org/stable/modules/preprocessing.html\n",
      "  self.n_iter_ = _check_optimize_result(\"lbfgs\", opt_res, self.max_iter)\n"
     ]
    },
    {
     "name": "stdout",
     "output_type": "stream",
     "text": [
      "77\n",
      "78\n"
     ]
    },
    {
     "name": "stderr",
     "output_type": "stream",
     "text": [
      "/srv/conda/envs/notebook/lib/python3.8/site-packages/sklearn/neural_network/_multilayer_perceptron.py:500: ConvergenceWarning: lbfgs failed to converge (status=1):\n",
      "STOP: TOTAL NO. of ITERATIONS REACHED LIMIT.\n",
      "\n",
      "Increase the number of iterations (max_iter) or scale the data as shown in:\n",
      "    https://scikit-learn.org/stable/modules/preprocessing.html\n",
      "  self.n_iter_ = _check_optimize_result(\"lbfgs\", opt_res, self.max_iter)\n"
     ]
    },
    {
     "name": "stdout",
     "output_type": "stream",
     "text": [
      "79\n",
      "80\n",
      "81\n",
      "82\n",
      "83\n",
      "84\n",
      "85\n",
      "86\n",
      "87\n",
      "88\n",
      "89\n",
      "90\n"
     ]
    },
    {
     "name": "stderr",
     "output_type": "stream",
     "text": [
      "/srv/conda/envs/notebook/lib/python3.8/site-packages/sklearn/neural_network/_multilayer_perceptron.py:500: ConvergenceWarning: lbfgs failed to converge (status=1):\n",
      "STOP: TOTAL NO. of ITERATIONS REACHED LIMIT.\n",
      "\n",
      "Increase the number of iterations (max_iter) or scale the data as shown in:\n",
      "    https://scikit-learn.org/stable/modules/preprocessing.html\n",
      "  self.n_iter_ = _check_optimize_result(\"lbfgs\", opt_res, self.max_iter)\n"
     ]
    },
    {
     "name": "stdout",
     "output_type": "stream",
     "text": [
      "91\n",
      "92\n",
      "93\n",
      "94\n",
      "95\n",
      "96\n",
      "97\n",
      "98\n",
      "99\n"
     ]
    }
   ],
   "source": [
    "# here I'm appending the RMSE from each run\n",
    "lin_ms = []\n",
    "rf_ms = []\n",
    "mlp_ms = []\n",
    "\n",
    "for i in range(100):\n",
    "    # full uncert including training process\n",
    "    X_train, X_test, y_train, y_test = train_test_split(X, y, test_size=0.33)\n",
    "    \n",
    "    lin_X_train = (X_train[:,0]/X_train[:,1]).reshape(-1,1)\n",
    "    lin_X_train = np.log(lin_X_train)\n",
    "    lin_X_train[np.isinf(lin_X_train)] = 0\n",
    "    lin_X_train[np.isneginf(lin_X_train)] = 0\n",
    "    \n",
    "    lin = LinearRegression() \n",
    "    lin.fit(lin_X_train, np.log(y_train)) \n",
    "    \n",
    "    rf = RandomForestRegressor(random_state=42)\n",
    "    rf.fit(X_train, np.log(y_train))\n",
    "    \n",
    "    mlp = MLPRegressor(solver='lbfgs', hidden_layer_sizes=(15, 8), random_state=42,max_iter=2000)\n",
    "    mlp.fit(X_train, np.log(y_train))\n",
    "    \n",
    "    # uncert from the radiometric error\n",
    "    \n",
    "    s = np.random.normal(mu, sigma, X_test.shape)+1\n",
    "    X_test_uncert = X_test*s\n",
    "    \n",
    "    # uncert from the chla measurement error\n",
    "    \n",
    "    s = np.random.normal(mu, sigma, y_test.shape)+1\n",
    "    y_test_uncert = y_test * s\n",
    "    \n",
    "    y_test_uncert = np.log(y_test_uncert)\n",
    "    \n",
    "    lin_X_test = (X_test_uncert[:,0]/X_test_uncert[:,1]).reshape(-1,1)\n",
    "    \n",
    "    lin_X_test = np.log(lin_X_test)\n",
    "    \n",
    "#     m = lin.score(lin_X_test,y_test_uncert)\n",
    "\n",
    "    lin_preds = lin.predict(lin_X_test)\n",
    "    m = mean_squared_error(y_test_uncert,lin_preds, squared=False)\n",
    "    \n",
    "#     ols_model = sm.OLS(np.log(y_test),sm.add_constant(lin_preds))\n",
    "#     results = ols_model.fit()\n",
    "\n",
    "#     # extract intercept b and slope m\n",
    "#     b, m = results.params\n",
    "    lin_ms.append(m)\n",
    "\n",
    "#     m = rf.score(X_test_uncert,y_test_uncert)\n",
    "    \n",
    "    rf_preds = rf.predict(X_test_uncert) \n",
    "    m = mean_squared_error(y_test_uncert,rf_preds, squared=False)\n",
    "    \n",
    "#     ols_model = sm.OLS(np.log(y_test),sm.add_constant(rf_preds))\n",
    "#     results = ols_model.fit()\n",
    "#     # extract intercept b and slope m\n",
    "#     b, m = results.params\n",
    "    rf_ms.append(m)\n",
    "    \n",
    "#     m = mlp.score(X_test_uncert,y_test_uncert)\n",
    "    mlp_preds = mlp.predict(X_test_uncert)\n",
    "    m = mean_squared_error(y_test_uncert,mlp_preds, squared=False)\n",
    "\n",
    "#     ols_model = sm.OLS(np.log(y_test),sm.add_constant(mlp_preds))\n",
    "#     results = ols_model.fit()\n",
    "#     # extract intercept b and slope m\n",
    "#     b, m = results.params\n",
    "    \n",
    "    mlp_ms.append(m)\n",
    "    print(i)"
   ]
  },
  {
   "cell_type": "code",
   "execution_count": 51,
   "id": "9a41b2ec-d698-400e-8f72-1471af996f56",
   "metadata": {},
   "outputs": [
    {
     "data": {
      "text/plain": [
       "1"
      ]
     },
     "execution_count": 51,
     "metadata": {},
     "output_type": "execute_result"
    }
   ],
   "source": [
    "1"
   ]
  },
  {
   "cell_type": "code",
   "execution_count": 52,
   "id": "457c02f4-a171-4502-9c12-de15a1d57fb1",
   "metadata": {},
   "outputs": [
    {
     "data": {
      "text/plain": [
       "(0.6957031879719496, 0.03750488647179112)"
      ]
     },
     "execution_count": 52,
     "metadata": {},
     "output_type": "execute_result"
    }
   ],
   "source": [
    "np.median(lin_ms),np.std(lin_ms)"
   ]
  },
  {
   "cell_type": "code",
   "execution_count": 53,
   "id": "0abb4057-a3e7-4b07-b4f5-dc6e5c3296d3",
   "metadata": {},
   "outputs": [
    {
     "data": {
      "text/plain": [
       "(0.6449837809346697, 0.1145630011330157)"
      ]
     },
     "execution_count": 53,
     "metadata": {},
     "output_type": "execute_result"
    }
   ],
   "source": [
    "np.median(mlp_ms),np.std(mlp_ms)"
   ]
  },
  {
   "cell_type": "code",
   "execution_count": 54,
   "id": "12bd0469-7be5-4f14-88d5-55c3399105f0",
   "metadata": {},
   "outputs": [
    {
     "data": {
      "text/plain": [
       "(0.6232676249012385, 0.05098681401234266)"
      ]
     },
     "execution_count": 54,
     "metadata": {},
     "output_type": "execute_result"
    }
   ],
   "source": [
    "np.median(rf_ms),np.std(rf_ms)"
   ]
  },
  {
   "cell_type": "code",
   "execution_count": 251,
   "id": "275c8efd-c881-43ea-a43e-faf7fbd2a6f5",
   "metadata": {},
   "outputs": [],
   "source": [
    "# there is one instance where it didn't converge\n",
    "mlp_ms = np.array(mlp_ms)\n",
    "mlp_ms = mlp_ms[mlp_ms>.6]"
   ]
  },
  {
   "cell_type": "code",
   "execution_count": 63,
   "id": "687be451-e03c-4bd1-857b-8f417631d422",
   "metadata": {},
   "outputs": [
    {
     "data": {
      "image/png": "[encoded data removed]",
      "text/plain": [
       "<Figure size 576x360 with 1 Axes>"
      ]
     },
     "metadata": {
      "needs_background": "light"
     },
     "output_type": "display_data"
    }
   ],
   "source": [
    "fig, ax = plt.subplots(figsize=(8,5))\n",
    "plt.hist(lin_ms,alpha=0.8,color=cb_palette[0],label='linear regression\\nmedian='+str(np.round(np.median(lin_ms), 3))+', σ='+str(np.round(np.std(lin_ms),3)))\n",
    "plt.hist(rf_ms,alpha=0.8,color=cb_palette[1],label='random forest\\nmedian='+str(np.round(np.median(rf_ms), 3))+', σ='+str(np.round(np.std(rf_ms),3)))\n",
    "plt.hist(mlp_ms,bins=30,alpha=0.8,color=cb_palette[2], label='MLP\\nmedian='+str(np.round(np.median(mlp_ms), 3))+', σ='+str(np.round(np.std(mlp_ms),3)))\n",
    "plt.xlim(0.45,.95)\n",
    "plt.xlabel('root mean squared error (RMSE)')\n",
    "plt.ylabel('count')\n",
    "plt.legend(bbox_to_anchor=(.6, 1.1),fancybox=True, shadow=True,)\n",
    "fig.tight_layout()\n",
    "plt.savefig('figs/r2_with_uncertainty.png',dpi=300)"
   ]
  },
  {
   "cell_type": "code",
   "execution_count": 59,
   "id": "91a1778c-ad7a-4b70-b274-0ea60de2b79a",
   "metadata": {},
   "outputs": [
    {
     "data": {
      "text/plain": [
       "(array([44., 31., 12.,  7.,  4.,  0.,  0.,  1.,  0.,  1.]),\n",
       " array([0.55828579, 0.6354283 , 0.71257081, 0.78971331, 0.86685582,\n",
       "        0.94399833, 1.02114084, 1.09828334, 1.17542585, 1.25256836,\n",
       "        1.32971087]),\n",
       " <BarContainer object of 10 artists>)"
      ]
     },
     "execution_count": 59,
     "metadata": {},
     "output_type": "execute_result"
    },
    {
     "data": {
      "image/png": "[encoded data removed]",
      "text/plain": [
       "<Figure size 432x288 with 1 Axes>"
      ]
     },
     "metadata": {
      "needs_background": "light"
     },
     "output_type": "display_data"
    }
   ],
   "source": [
    "plt.hist(lin_ms,alpha=0.8,color=cb_palette[0])\n",
    "plt.hist(rf_ms,alpha=0.8,color=cb_palette[1])\n",
    "plt.hist(mlp_ms,alpha=0.8,color=cb_palette[2])"
   ]
  },
  {
   "cell_type": "code",
   "execution_count": 185,
   "id": "b5cbd831-ed70-4379-bae1-cedce2dd5809",
   "metadata": {},
   "outputs": [
    {
     "data": {
      "text/plain": [
       "(array([ 1.,  0.,  1.,  0.,  1.,  5., 12., 37., 33., 10.]),\n",
       " array([0.89021848, 0.90198329, 0.9137481 , 0.92551291, 0.93727772,\n",
       "        0.94904252, 0.96080733, 0.97257214, 0.98433695, 0.99610176,\n",
       "        1.00786657]),\n",
       " <BarContainer object of 10 artists>)"
      ]
     },
     "execution_count": 185,
     "metadata": {},
     "output_type": "execute_result"
    },
    {
     "data": {
      "image/png": "[encoded data removed]",
      "text/plain": [
       "<Figure size 432x288 with 1 Axes>"
      ]
     },
     "metadata": {
      "needs_background": "light"
     },
     "output_type": "display_data"
    }
   ],
   "source": [
    "plt.hist(lin_ms,alpha=0.8,color=cb_palette[0])\n",
    "plt.hist(rf_ms,alpha=0.8,color=cb_palette[1])\n",
    "plt.hist(mlp_ms,alpha=0.8,color=cb_palette[2])"
   ]
  },
  {
   "cell_type": "code",
   "execution_count": 172,
   "id": "3cf339c2-5997-4002-ace3-0ac407a61c4d",
   "metadata": {},
   "outputs": [
    {
     "data": {
      "text/plain": [
       "(array([ 3.,  6.,  9., 15., 13., 23., 18., 10.,  2.,  1.]),\n",
       " array([0.82132192, 0.82516445, 0.82900699, 0.83284953, 0.83669206,\n",
       "        0.8405346 , 0.84437713, 0.84821967, 0.85206221, 0.85590474,\n",
       "        0.85974728]),\n",
       " <BarContainer object of 10 artists>)"
      ]
     },
     "execution_count": 172,
     "metadata": {},
     "output_type": "execute_result"
    },
    {
     "data": {
      "image/png": "[encoded data removed]",
      "text/plain": [
       "<Figure size 432x288 with 1 Axes>"
      ]
     },
     "metadata": {
      "needs_background": "light"
     },
     "output_type": "display_data"
    }
   ],
   "source": [
    "plt.hist(lin_ms,alpha=0.8,color=cb_palette[0])\n",
    "plt.hist(rf_ms,alpha=0.8,color=cb_palette[1])\n",
    "plt.hist(mlp_ms,alpha=0.8,color=cb_palette[2])"
   ]
  },
  {
   "cell_type": "code",
   "execution_count": null,
   "id": "2cd68083-690b-45d1-b54f-b4c6bbe16c6d",
   "metadata": {},
   "outputs": [],
   "source": []
  }
 ],
 "metadata": {
  "kernelspec": {
   "display_name": "Python 3",
   "language": "python",
   "name": "python3"
  },
  "language_info": {
   "codemirror_mode": {
    "name": "ipython",
    "version": 3
   },
   "file_extension": ".py",
   "mimetype": "text/x-python",
   "name": "python",
   "nbconvert_exporter": "python",
   "pygments_lexer": "ipython3",
   "version": "3.8.10"
  }
 },
 "nbformat": 4,
 "nbformat_minor": 5
}
